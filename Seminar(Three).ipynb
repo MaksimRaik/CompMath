{
 "cells": [
  {
   "cell_type": "markdown",
   "metadata": {},
   "source": [
    "### Задача с семинара II.8.4\n",
    "\n",
    "$$ A = \\begin{pmatrix}\n",
    "-2 & 1 \\\\\n",
    "0 & 2\n",
    "\\end{pmatrix};\\ \\vec{f} = \\begin{pmatrix}\n",
    "3 \\\\\n",
    "1\n",
    "\\end{pmatrix}$$\n",
    "\n",
    "$$ B = A^T A = \\begin{pmatrix}\n",
    "4 & -2 \\\\\n",
    "-2 & 5\n",
    "\\end{pmatrix};\\ \\vec{g} = A^T \\vec{f} = \\begin{pmatrix}\n",
    "-6 \\\\\n",
    "5\n",
    "\\end{pmatrix} $$\n",
    "\n",
    "Итерационный процесс выглядит следующим образом: $ \\vec{x}^{(p+1)} = ( E - \\tau B ) \\vec{x}^{(p)} + \\tau \\vec{ g }$"
   ]
  },
  {
   "cell_type": "code",
   "execution_count": 213,
   "metadata": {},
   "outputs": [],
   "source": [
    "import numpy as np \n",
    "import matplotlib.pyplot as plt"
   ]
  },
  {
   "cell_type": "code",
   "execution_count": 214,
   "metadata": {},
   "outputs": [],
   "source": [
    "def TauOpt( A ):\n",
    "    \n",
    "    LambdaMax = max( np.linalg.eig( A )[ 0 ] )\n",
    "    \n",
    "    LambdaMin = min( np.linalg.eig( A )[ 0 ] )\n",
    "    \n",
    "    return 2.0 / ( LambdaMax + LambdaMin )"
   ]
  },
  {
   "cell_type": "code",
   "execution_count": 215,
   "metadata": {},
   "outputs": [],
   "source": [
    "def Norm3( vec ):\n",
    "    \n",
    "    S = 0.0\n",
    "    \n",
    "    for v in vec:\n",
    "        \n",
    "        S += np.fabs( v ) ** 2\n",
    "        \n",
    "    return np.sqrt( S )"
   ]
  },
  {
   "cell_type": "code",
   "execution_count": 216,
   "metadata": {},
   "outputs": [],
   "source": [
    "A = np.asarray( [ [ -2., 1. ],[ 0., 2. ] ] )\n",
    "\n",
    "f = np.asarray( [ 3., 1. ] )\n",
    "\n",
    "B = np.dot( A.transpose(), A )\n",
    "\n",
    "g = np.dot( A.transpose(), f )\n",
    "\n",
    "R = np.eye( 2 ) - TauOpt( B ) * B\n",
    "\n",
    "phi = TauOpt( B ) * g"
   ]
  },
  {
   "cell_type": "markdown",
   "metadata": {},
   "source": [
    "### Отслеживание решения по невязке"
   ]
  },
  {
   "cell_type": "code",
   "execution_count": 217,
   "metadata": {},
   "outputs": [
    {
     "data": {
      "image/png": "[encoded data removed]",
      "text/plain": [
       "<Figure size 864x576 with 1 Axes>"
      ]
     },
     "metadata": {
      "needs_background": "light"
     },
     "output_type": "display_data"
    }
   ],
   "source": [
    "plt.figure( figsize = ( 12, 8 ) )\n",
    "plt.grid()\n",
    "plt.xlabel( r'Шаг' )\n",
    "plt.ylabel( r'$ || Bx^{p} - g ||_{3} $' )\n",
    "\n",
    "x = np.zeros( 2 )\n",
    "\n",
    "k = 0\n",
    "\n",
    "eps = 1.0e-3\n",
    "\n",
    "while Norm3( np.dot( B, x ) - g ) > eps:\n",
    "    \n",
    "    k += 1\n",
    "    \n",
    "    x = np.dot( R, x ) + phi\n",
    "    \n",
    "    plt.plot( [ k, ], [ Norm3( np.dot( B, x ) - g ), ], 'ro' )"
   ]
  },
  {
   "cell_type": "code",
   "execution_count": 218,
   "metadata": {},
   "outputs": [
    {
     "name": "stdout",
     "output_type": "stream",
     "text": [
      "Решение системы = [-1.24989317  0.49995727]\n"
     ]
    }
   ],
   "source": [
    "print( 'Решение системы =', x )"
   ]
  },
  {
   "cell_type": "markdown",
   "metadata": {},
   "source": [
    "### Отслеживание решения по приближению к точному"
   ]
  },
  {
   "cell_type": "code",
   "execution_count": 219,
   "metadata": {},
   "outputs": [
    {
     "data": {
      "image/png": "[encoded data removed]",
      "text/plain": [
       "<Figure size 864x576 with 1 Axes>"
      ]
     },
     "metadata": {
      "needs_background": "light"
     },
     "output_type": "display_data"
    }
   ],
   "source": [
    "plt.figure( figsize = ( 12, 8 ) )\n",
    "plt.grid()\n",
    "plt.xlabel( r'Шаг' )\n",
    "plt.ylabel( r'$ || x^* - x^{(k)} ||_{3} $' )\n",
    "\n",
    "x = np.zeros( 2 )\n",
    "\n",
    "k = 0\n",
    "\n",
    "eps = 1.0e-3\n",
    "\n",
    "while Norm3( np.linalg.solve( B, g ) - x ) > eps:\n",
    "    \n",
    "    k += 1\n",
    "    \n",
    "    x = np.dot( R, x ) + phi\n",
    "    \n",
    "    plt.plot( [ k, ], [ Norm3( np.dot( B, x ) - g ), ], 'bo' )"
   ]
  },
  {
   "cell_type": "code",
   "execution_count": 220,
   "metadata": {},
   "outputs": [
    {
     "name": "stdout",
     "output_type": "stream",
     "text": [
      "Решение системы = [-1.24949099  0.49979639]\n"
     ]
    }
   ],
   "source": [
    "print( 'Решение системы =', x )"
   ]
  },
  {
   "cell_type": "markdown",
   "metadata": {},
   "source": [
    "### Отслеживание решения по двум соседним значениям"
   ]
  },
  {
   "cell_type": "code",
   "execution_count": 221,
   "metadata": {},
   "outputs": [
    {
     "data": {
      "image/png": "[encoded data removed]",
      "text/plain": [
       "<Figure size 864x576 with 1 Axes>"
      ]
     },
     "metadata": {
      "needs_background": "light"
     },
     "output_type": "display_data"
    }
   ],
   "source": [
    "plt.figure( figsize = ( 12, 8 ) )\n",
    "plt.grid()\n",
    "plt.xlabel( r'Шаг' )\n",
    "plt.ylabel( r'$ || x^{(k+1)} - x^{(k)} ||_{3} $' )\n",
    "\n",
    "x = np.zeros( 2 )\n",
    "\n",
    "k = 0\n",
    "\n",
    "eps = 1.0e-3\n",
    "\n",
    "x_old = np.ones( 2 ) * 1.0\n",
    "\n",
    "while Norm3( x_old - x ) > eps:\n",
    "    \n",
    "    k += 1\n",
    "    \n",
    "    x_old = np.copy( x )\n",
    "    \n",
    "    x = np.dot( R, x ) + phi\n",
    "    \n",
    "    plt.plot( [ k, ], [ Norm3( np.dot( B, x ) - g ), ], 'go' )"
   ]
  },
  {
   "cell_type": "code",
   "execution_count": 222,
   "metadata": {},
   "outputs": [
    {
     "name": "stdout",
     "output_type": "stream",
     "text": [
      "Решение системы = [-1.25003393  0.50024885]\n"
     ]
    }
   ],
   "source": [
    "print( 'Решение системы =', x )"
   ]
  },
  {
   "cell_type": "markdown",
   "metadata": {},
   "source": [
    "# Численное решение нелинейных уравнений\n",
    "\n",
    "Так как численное решение нелинейных уравнений происходит с помощью итерационных методов, рассмотрим их решение"
   ]
  },
  {
   "cell_type": "markdown",
   "metadata": {},
   "source": [
    "### Методы бывают:\n",
    "\n",
    "#### Двухточечными\n",
    "\n",
    "* деления отрезка пополам\n",
    "\n",
    "* секущих\n",
    "\n",
    "* адаптированный м. Бренда (объединяющий лучшие черты двух предыдущих)\n",
    "\n",
    "\n",
    "#### Одноточечными\n",
    "\n",
    "* МПИ\n",
    "\n",
    "* Метод установления\n",
    "\n",
    "* м. Ньютона\n",
    "\n",
    "Двухточечные используют понятие локализации корня – т.е. отрезка, на краях которого функция принимает значения с разными знаками. Для одноточечных локализация не нужна. Все двухточечные относятся к классу методов исключения отрезков. Обобщению на многомерие подлежат только одноточечные методы, т.к. для СНУ нет понятия локализации корня."
   ]
  },
  {
   "cell_type": "markdown",
   "metadata": {},
   "source": [
    "В методах, использующих локализацию корня, останов итераций при заданной точности $\\varepsilon > 0$ вычисления положения корня осуществить просто: когда длина очередного отрезка локализации $$|a_n - b_n| < \\varepsilon$$ итерационный процесс останавливается.\n",
    "\n",
    "Для одноточечных линейно сходящихся методов (МПИ) итерационный процесс следует остановить при выполнении оценки $$||x* - x^{(n)}||< \\varepsilon$$\n",
    "\n",
    "Так как точное решение $x^*$ неизвестно, то это условие на практике в\n",
    "явном виде проверить невозможно. Здесь поступают следующим образом.\n",
    "Введем величину $$||x^{(n)} - x^{(n-1)}||$$, которая называется итерационной поправкой. Иногда требуют просто, чтобы итерационная поправка не превосходила заданного значения точности: $$||x^{(n)} - x^{(n-1)}||< \\varepsilon $$\n",
    "\n",
    "$$||x* - x^{(n)}|| = ||x^{\\infty} - x^{(n)}|| = ||x^{(n)} - x^{(n+1)} + x^{(n+1)} - x^{(n+2)} + x^{(n+2)}-...-x^{\\infty}|| \\leq$$ $$ \\leq ||x^{(n)} - x^{(n+1)}||+||x^{(n+1)} - x^{(n+2)}||+||x^{(n+2)} - x^{(n+3)}||+...\\leq ||x^{(n)} - x^{(n+1)}||(1+q+q^2+...)=$$ $$=||x^{(n)} - x^{(n+1)}|| \\frac{1}{1-q} \\leq \\varepsilon$$\n",
    "\n",
    "Таким образом, мы видим, что для достижения заданной точности крите-\n",
    "рий в терминах итерационной поправки нужно переформулировать\n",
    "следующим образом: $$||x^{(n)} - x^{(n+1)}|| \\leq \\varepsilon (1-q)$$\n",
    "\n",
    "Величина $q$ в оценке должна уточняться на итерациях: $$q = \\frac{||x^{(n)} - x^{(n-1)}||}{||x^{(n-1)} - x^{(n-2)}||}$$"
   ]
  },
  {
   "cell_type": "markdown",
   "metadata": {},
   "source": [
    "### Задача IV.11.9\n",
    "\n",
    "Для нелинейной системы уравнений\n",
    "\n",
    "$$\n",
    "\\left\\{\n",
    "\\begin{aligned}\n",
    "xy - x^2 &= 1.03 \\\\\n",
    "-2x^3 + y^2 &= 1.98\n",
    "\\end{aligned}\n",
    "\\right.\n",
    "$$\n",
    "\n",
    "известны приближенные значения корней $x^0 = 1,\\ y^0 = 2$.\n",
    "\n",
    "Показать, что для уточнения корней можно воспользоваться итерационной схемой\n",
    "\n",
    "$$ x_{k+1} = ( ( y_k^2 - 1.98 ) / 2 ) ^{1/3},\\ y_{k+1} = x_{k} + 1.03 / x_{k} $$\n",
    "\n",
    "Оценить количество итераций, достаточное для уменьшения первоначальной погрешности не менее чем в $10^4$\n",
    "\n",
    "#### Решение\n",
    "\n",
    "Примем, что \n",
    "\n",
    "$$ \\Phi_1 = x_{k+1} = ( ( y_k^2 - 1.98 ) / 2 ) ^{1/3},\\ \\Phi_2 = y_{k+1} = x_{k} + 1.03 / x_{k} $$\n",
    "\n",
    "Тогда невязка\n",
    "\n",
    "$$r^{k+1} =\n",
    "\\begin{pmatrix}\n",
    "x^{k+1} \\\\\n",
    "y^{k+1}\n",
    "\\end{pmatrix} - \n",
    "\\begin{pmatrix}\n",
    "x^{k} \\\\\n",
    "y^{k}\n",
    "\\end{pmatrix} = \n",
    "\\begin{pmatrix}\n",
    "\\Phi_1(y^{k}) - \\Phi_1(y^{k-1}) \\\\\n",
    "\\Phi_2(x^{k}) - \\Phi_2(x^{k-1})\n",
    "\\end{pmatrix} = J(\\vec{x}) \\begin{pmatrix}\n",
    "x^{k} - x^{k-1} \\\\\n",
    "y^{k} - y^{k-1}\n",
    "\\end{pmatrix}\n",
    "$$\n",
    "\n",
    "где\n",
    "$$ J(\\vec{x}) = \n",
    "\\begin{pmatrix}\n",
    "0 & \\frac{y'_k}{3}( ( y_k^2 - 1.98 ) / 2 ) ^{-2/3} \\\\\n",
    "1 - 1.03 / x_k^2 & 0\n",
    "\\end{pmatrix} (**)\n",
    "$$\n",
    "\n",
    "$$||r^{k+1}||_1 = ||J(\\vec{x})||_1||r^{k}||_1 =...= (||J(\\vec{x})||_1)^k||r^{1}||_1 $$\n",
    "\n",
    "Таким образом принимая $||J(\\vec{x})||_1 = q$:\n",
    "\n",
    "$$||r^{k+1}||_1 = \\frac{q^k}{1-q} || \\vec{x^1} - \\vec{x^0} ||$$\n",
    "\n",
    "Из условия задачи получаем, что значение выражения $ q^k/(1-q) $ должно ровняться $1/10^4$, тогда количество итераций $K = \\log_{q}((1-q) / 10^4)$\n",
    "\n",
    "$$q =||J(x^0, y^0)||_1 = 0.6$$\n",
    "\n",
    "Значит\n",
    "\n",
    "$K = \\log_{0.6}((1-0.6) / 10^4) = \\log_{0.6}(0.00004) = \\ln(0.00004) / \\ln(0.6) = 20$"
   ]
  },
  {
   "cell_type": "markdown",
   "metadata": {},
   "source": [
    "Реализуем данный итерационный процесс"
   ]
  },
  {
   "cell_type": "code",
   "execution_count": 223,
   "metadata": {},
   "outputs": [],
   "source": [
    "import numpy as np\n",
    "import matplotlib.pyplot as plt"
   ]
  },
  {
   "cell_type": "markdown",
   "metadata": {},
   "source": [
    "### Первый способ"
   ]
  },
  {
   "cell_type": "code",
   "execution_count": 224,
   "metadata": {},
   "outputs": [],
   "source": [
    "def Iteration( x_old, y_old ):\n",
    "    \n",
    "    x_new = ( ( y_old ** 2 - 1.98 ) / 2.0 ) ** ( 1.0 / 3.0 )\n",
    "    \n",
    "    y_new = x_old + 1.03 / x_old\n",
    "    \n",
    "    return x_new, y_new"
   ]
  },
  {
   "cell_type": "code",
   "execution_count": 225,
   "metadata": {},
   "outputs": [],
   "source": [
    "def Norm1( vec ):\n",
    "    \n",
    "    Max = np.fabs( vec[ 0 ] )\n",
    "    \n",
    "    for v in vec:\n",
    "        \n",
    "        if Max <= np.fabs( v ):\n",
    "            \n",
    "            Max = np.fabs( v )\n",
    "            \n",
    "    return Max"
   ]
  },
  {
   "cell_type": "code",
   "execution_count": 226,
   "metadata": {},
   "outputs": [],
   "source": [
    "q = 0.6\n",
    "\n",
    "eps = 1.0e-4\n",
    "\n",
    "x, x_old = 1., 0.\n",
    "\n",
    "y, y_old = 2., 0.\n",
    "\n",
    "Err = []\n",
    "\n",
    "for k in np.arange( 0, 10000, 1 ):\n",
    "    \n",
    "    x_old = x\n",
    "    \n",
    "    y_old = y\n",
    "    \n",
    "    if q ** k / ( 1.0 - q ) <= eps:\n",
    "        \n",
    "        break\n",
    "        \n",
    "    x, y = Iteration( x, y )\n",
    "    \n",
    "    Err.append( Norm1( [ x - x_old, y - y_old] ) )"
   ]
  },
  {
   "cell_type": "code",
   "execution_count": 227,
   "metadata": {},
   "outputs": [
    {
     "name": "stdout",
     "output_type": "stream",
     "text": [
      "количество итераций = 20 \n",
      " решение системы = [1.0228491849497898, 2.0298402596413743]\n"
     ]
    }
   ],
   "source": [
    "print( 'количество итераций =', k, '\\n', 'решение системы =', [ x, y ] )\n"
   ]
  },
  {
   "cell_type": "code",
   "execution_count": 228,
   "metadata": {},
   "outputs": [
    {
     "data": {
      "text/plain": [
       "[<matplotlib.lines.Line2D at 0x23344cd4970>]"
      ]
     },
     "execution_count": 228,
     "metadata": {},
     "output_type": "execute_result"
    },
    {
     "data": {
      "image/png": "[encoded data removed]",
      "text/plain": [
       "<Figure size 864x576 with 1 Axes>"
      ]
     },
     "metadata": {
      "needs_background": "light"
     },
     "output_type": "display_data"
    }
   ],
   "source": [
    "plt.figure( figsize = ( 12, 8 ) )\n",
    "plt.grid()\n",
    "plt.xlabel( r'Шаг' )\n",
    "plt.ylabel( r'Ошибка' )\n",
    "\n",
    "plt.plot( np.arange( 0, k, 1 ), Err, 'ro' )"
   ]
  },
  {
   "cell_type": "markdown",
   "metadata": {},
   "source": [
    "### Второй способ"
   ]
  },
  {
   "cell_type": "markdown",
   "metadata": {},
   "source": [
    "Рассмотрим уравнение $$\\vec{F(\\vec{u})} = 0\\ (1)$$\n",
    "\n",
    "Данную систему можно представить в эквивалентном виде $$\\vec{u} = \\vec{f}(\\vec{u})$$\n",
    "\n",
    "Тогда следующие приближения к решению данной системы можно строить как последовательность итераций $$ \\vec{u}^{(n+1)} = f(\\vec{u}^{(n)})$$\n",
    "\n",
    "Метод Ньютона для систем нелинейных уравнений $(1)$ является обобщением метода Ньютона для одного нелинейного уравнения. Линеаризуем систему уравнений $(1)$ в окрестности предыдущего приближения\n",
    "\n",
    "$$ \\vec{F(\\vec{u}^{(k+1)})} = \\vec{F(\\vec{u}^{(k)})} + J (\\vec{u}^{(k+1)} - \\vec{u}^{(k)}) = 0 $$\n",
    "\n",
    "Здесь $J$ матрица Якоби имеет вид:\n",
    "\n",
    "$$ J = \\frac{d\\vec{F}}{d\\vec{u}} = \\begin{pmatrix}\n",
    "\\partial F_1 / \\partial u_1 & ... & \\partial F_1 / \\partial u_n \\\\\n",
    "... & ... & ... \\\\\n",
    "\\partial F_n / \\partial u_1 & ... & \\partial F_n / \\partial u_n\n",
    "\\end{pmatrix}$$\n",
    "\n",
    "Тогда следующее приближение к корню может быть построено как \n",
    "\n",
    "$$ \\vec{u}^{(k+1)} = \\vec{u}^{(k)} - J^{-1} \\vec{F}(\\vec{u}^{(k)}) $$\n",
    "\n",
    "Для решения данной системы воспользуемся методом Ньютона\n",
    "\n",
    "Матрица Якоби для данной системы:\n",
    "\n",
    "$$ J = \\frac{d\\vec{F}}{d\\vec{u}} = \\begin{pmatrix}\n",
    "y - 2x & x \\\\\n",
    "-6x^2 & 2y\n",
    "\\end{pmatrix} $$"
   ]
  },
  {
   "cell_type": "code",
   "execution_count": 229,
   "metadata": {},
   "outputs": [],
   "source": [
    "def Jacobian( u ):\n",
    "    \n",
    "    J = np.zeros( ( 2, 2 ) )\n",
    "    \n",
    "    J[ 0 ][ 0 ] = u[ 1 ] - 2.0 * u[ 0 ]\n",
    "    \n",
    "    J[ 0 ][ 1 ] = u[ 0 ]\n",
    "    \n",
    "    J[ 1 ][ 0 ] = - 6.0 * u[ 0 ] ** 2\n",
    "    \n",
    "    J[ 1 ][ 1 ] = 2.0 * u[ 1 ]\n",
    "    \n",
    "    return J"
   ]
  },
  {
   "cell_type": "code",
   "execution_count": 230,
   "metadata": {},
   "outputs": [],
   "source": [
    "def F( u ):\n",
    "    \n",
    "    F = np.zeros( 2 )\n",
    "    \n",
    "    F[ 0 ] = u[ 0 ] * u[ 1 ] - u[ 0 ] ** 2 - 1.03\n",
    "    \n",
    "    F[ 1 ] = - 2.0 * u[ 0 ] ** 3 + u[ 1 ] ** 2 - 1.98\n",
    "    \n",
    "    return F\n",
    "    "
   ]
  },
  {
   "cell_type": "code",
   "execution_count": 231,
   "metadata": {},
   "outputs": [],
   "source": [
    "u = np.ones( 2 )\n",
    "u[ 1 ] = 2.\n",
    "\n",
    "u_old = np.zeros( 2 )\n",
    "\n",
    "eps = 1.0e-4\n",
    "\n",
    "k = 0\n",
    "\n",
    "while Norm1( u - u_old ) > 1.0e-4:\n",
    "    \n",
    "    k += 1\n",
    "    \n",
    "    u_old = np.copy( u )\n",
    "    \n",
    "    u = u - np.dot( np.linalg.inv( Jacobian( u ) ), F( u ) )"
   ]
  },
  {
   "cell_type": "code",
   "execution_count": 232,
   "metadata": {},
   "outputs": [
    {
     "name": "stdout",
     "output_type": "stream",
     "text": [
      "количество итераций = 3 \n",
      " решение системы = [1.02284918 2.02984026]\n"
     ]
    }
   ],
   "source": [
    "print( 'количество итераций =', k, '\\n', 'решение системы =', u )"
   ]
  },
  {
   "cell_type": "code",
   "execution_count": null,
   "metadata": {},
   "outputs": [],
   "source": []
  }
 ],
 "metadata": {
  "kernelspec": {
   "display_name": "Python 3",
   "language": "python",
   "name": "python3"
  },
  "language_info": {
   "codemirror_mode": {
    "name": "ipython",
    "version": 3
   },
   "file_extension": ".py",
   "mimetype": "text/x-python",
   "name": "python",
   "nbconvert_exporter": "python",
   "pygments_lexer": "ipython3",
   "version": "3.8.5"
  }
 },
 "nbformat": 4,
 "nbformat_minor": 4
}
