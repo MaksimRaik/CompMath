{
 "cells": [
  {
   "cell_type": "code",
   "execution_count": 1,
   "metadata": {},
   "outputs": [],
   "source": [
    "import numpy as np\n",
    "import matplotlib.pyplot as plt"
   ]
  },
  {
   "cell_type": "code",
   "execution_count": 2,
   "metadata": {},
   "outputs": [],
   "source": [
    "def Tr( h, f ): #метод трапеции\n",
    "    \n",
    "    res = 0.0\n",
    "    \n",
    "    N = f.shape[ 0 ]\n",
    "    \n",
    "    for k in np.arange( 0, N - 1, 1 ):\n",
    "        \n",
    "        res += h / 2.0 * ( f[ k ] + f[ k + 1 ] )\n",
    "\n",
    "    return res\n",
    "\n",
    "def Pr( h, f ): # метод прямоугольников\n",
    "    \n",
    "    res = 0.0\n",
    "    \n",
    "    N = f.shape[ 0 ]\n",
    "    \n",
    "    for k in np.arange( 0, N - 1, 1 ):\n",
    "        \n",
    "        res += h * f[ k ]\n",
    "        \n",
    "    return res"
   ]
  },
  {
   "cell_type": "markdown",
   "metadata": {},
   "source": [
    "## Задача\n",
    "\n",
    "Найти значение интеграла $$ \\int^{10}_{0}{ \\frac{\\cos{x}}{\\sqrt{x}}dx } $$"
   ]
  },
  {
   "cell_type": "markdown",
   "metadata": {},
   "source": [
    "### Первый способ\n",
    "\n",
    "$$ \\int^{10}_{0}{ \\frac{\\cos{x}}{\\sqrt{x}}dx } = 2\\sqrt{10}\\cos{10} +2 \\int^{10}_{0}{ \\sin{x}\\sqrt{x}dx } $$"
   ]
  },
  {
   "cell_type": "code",
   "execution_count": 3,
   "metadata": {},
   "outputs": [],
   "source": [
    "h = 0.001\n",
    "\n",
    "x = np.arange( 0, 10, h )\n",
    "\n",
    "def Ftrue( x ):\n",
    "    \n",
    "    return np.cos( x ) / np.sqrt( x )\n",
    "\n",
    "def Fch( x ):\n",
    "    \n",
    "    return np.sin( x ) * np.sqrt( x )"
   ]
  },
  {
   "cell_type": "code",
   "execution_count": 4,
   "metadata": {},
   "outputs": [],
   "source": [
    "FirstPart = 2.0 * np.sqrt( 10. ) * np.cos( 10. )\n",
    "\n",
    "SecondPart_TR = Tr( h, Fch( x ) )\n",
    "\n",
    "Itr = FirstPart + 2.0 * SecondPart_TR"
   ]
  },
  {
   "cell_type": "code",
   "execution_count": 5,
   "metadata": {},
   "outputs": [],
   "source": [
    "SecondPart_PR = Pr( h, Fch( x + h / 2. ) )\n",
    "\n",
    "Ipr = FirstPart + 2.0 * SecondPart_TR"
   ]
  },
  {
   "cell_type": "code",
   "execution_count": 6,
   "metadata": {},
   "outputs": [
    {
     "name": "stdout",
     "output_type": "stream",
     "text": [
      "значение интеграла методом трапеций = 1.0987436922160185 \n",
      " значение интеграла методом прямоугольников = 1.0987436922160185\n"
     ]
    }
   ],
   "source": [
    "print( 'значение интеграла методом трапеций =', Itr, '\\n', 'значение интеграла методом прямоугольников =', Ipr  )"
   ]
  },
  {
   "cell_type": "markdown",
   "metadata": {},
   "source": [
    "### Второй способ\n",
    "\n",
    "$$ \\int^{10}_{0}{ \\frac{\\cos{x}}{\\sqrt{x}}dx } = \\left|  x = t^2 \\right| = \\int^{\\sqrt{10}}_{0}{ \\frac{\\cos{t^2}}{t}2tdt } = 2\\int^{\\sqrt{10}}_{0}{ \\cos{t^2}dt} = $$"
   ]
  },
  {
   "cell_type": "code",
   "execution_count": 7,
   "metadata": {},
   "outputs": [],
   "source": [
    "h = 0.001\n",
    "\n",
    "t = np.arange( 0.0, np.sqrt( 10. ), h )\n",
    "\n",
    "def Ftrue( x ):\n",
    "    \n",
    "    return np.cos( x ) / np.sqrt( x )\n",
    "\n",
    "def Fch( t ):\n",
    "    \n",
    "    return np.cos( t ** 2 )"
   ]
  },
  {
   "cell_type": "code",
   "execution_count": 8,
   "metadata": {},
   "outputs": [],
   "source": [
    "Itr = 2.0 * Tr( h, Fch( t ) )"
   ]
  },
  {
   "cell_type": "code",
   "execution_count": 9,
   "metadata": {},
   "outputs": [],
   "source": [
    "Ipr = 2.0 * Pr( h, Fch( t + h / 2. ) )"
   ]
  },
  {
   "cell_type": "code",
   "execution_count": 10,
   "metadata": {},
   "outputs": [
    {
     "name": "stdout",
     "output_type": "stream",
     "text": [
      "значение интеграла методом трапеций = 1.095772989248177 \n",
      " значение интеграла методом прямоугольников = 1.0957721314810338\n"
     ]
    }
   ],
   "source": [
    "print( 'значение интеграла методом трапеций =', Itr, '\\n', 'значение интеграла методом прямоугольников =', Ipr  )"
   ]
  },
  {
   "cell_type": "markdown",
   "metadata": {},
   "source": [
    "## Третий способ\n",
    "\n",
    "$$ \\int^{10}_{0}{ \\frac{\\cos{x}}{\\sqrt{x}}dx } = \\int^{c}_{0}{ \\frac{\\cos{x}}{\\sqrt{x}}dx } + \\int^{10}_{c}{ \\frac{\\cos{x}}{\\sqrt{x}}dx } = \\int^{c}_{0}{ \\frac{1}{\\sqrt{x}}dx + \\frac{x^{7/2}}{24}dx +... } + \\int^{10}_{c}{ \\frac{\\cos{x}}{\\sqrt{x}}dx }$$\n",
    "\n",
    "$$ \\int^{c}_{0}{ \\frac{1}{\\sqrt{x}}dx } \\leq \\frac{||\\left(\\frac{1}{x} \\right)^{(2)}||}{12}(b-a)h^2 \\approx \\frac{c^{-5/2}}{16}ch^2 \\approx \\frac{c^{-3/2}}{16}h^2 \\approx 1.0e-5$$\n",
    "\n",
    "$$c \\approx \\left( \\frac{16 \\times 10^{-5}}{h^2} \\right)^{-2/3}$$"
   ]
  },
  {
   "cell_type": "code",
   "execution_count": 11,
   "metadata": {},
   "outputs": [],
   "source": [
    "h = 0.0001\n",
    "\n",
    "c = ( 16.0 * 1.0e-5 / h ** 2 ) ** ( -2. / 3. )\n",
    "\n",
    "x0 = np.arange( 0.0, c, h )\n",
    "\n",
    "x1 = np.arange( c, 10, h )\n",
    "\n",
    "def Ftrue( x ):\n",
    "    \n",
    "    return np.cos( x ) / np.sqrt( x )"
   ]
  },
  {
   "cell_type": "code",
   "execution_count": 12,
   "metadata": {},
   "outputs": [],
   "source": [
    "def phi( x, n ):\n",
    "    \n",
    "    return x ** ( -0.5 + n )\n",
    "\n",
    "def Factorial( n ):\n",
    "    \n",
    "    faq = 1.0\n",
    "    \n",
    "    if n == 0:\n",
    "        \n",
    "        return 1.0\n",
    "    \n",
    "    else:\n",
    "    \n",
    "        for i in np.arange( 1, n + 1, 1 ):\n",
    "            \n",
    "            faq = faq * i\n",
    "        \n",
    "        return faq\n",
    "    \n",
    "def Fch( x, n ):\n",
    "    \n",
    "    global phi, Factorial\n",
    "    \n",
    "    return phi( x, n ) / Factorial( n )\n",
    "\n",
    "def FirstPart_TR( x ):\n",
    "    \n",
    "    global Fch, h, Tr\n",
    "    \n",
    "    res = 0.0\n",
    "    \n",
    "    for i in np.arange( 2, 10, 2 ):\n",
    "        \n",
    "        fch = Fch( x, i )\n",
    "        \n",
    "        res += Tr( h, fch )\n",
    "        \n",
    "    return res\n",
    "\n",
    "def FirstPart_PR( x ):\n",
    "    \n",
    "    global Fch, h, Pr\n",
    "    \n",
    "    res = 0.0\n",
    "    \n",
    "    for i in np.arange( 2, 10, 2 ):\n",
    "        \n",
    "        res += Pr( h, Fch( x + h / 2., i ) )\n",
    "       \n",
    "    return res"
   ]
  },
  {
   "cell_type": "code",
   "execution_count": 13,
   "metadata": {},
   "outputs": [],
   "source": [
    "Itr = FirstPart_TR( x0 ) + Tr( h, Ftrue( x1 ) )"
   ]
  },
  {
   "cell_type": "code",
   "execution_count": 14,
   "metadata": {},
   "outputs": [],
   "source": [
    "Ipr = FirstPart_PR( x0 ) + Pr( h, Ftrue( x1 + h / 2. ) )"
   ]
  },
  {
   "cell_type": "code",
   "execution_count": 15,
   "metadata": {},
   "outputs": [
    {
     "name": "stdout",
     "output_type": "stream",
     "text": [
      "значение интеграла методом трапеций = 1.0159495083005385 \n",
      " значение интеграла методом прямоугольников = 1.0159395111422835\n"
     ]
    }
   ],
   "source": [
    "print( 'значение интеграла методом трапеций =', Itr, '\\n', 'значение интеграла методом прямоугольников =', Ipr  )"
   ]
  },
  {
   "cell_type": "code",
   "execution_count": null,
   "metadata": {},
   "outputs": [],
   "source": []
  }
 ],
 "metadata": {
  "kernelspec": {
   "display_name": "Python 3",
   "language": "python",
   "name": "python3"
  },
  "language_info": {
   "codemirror_mode": {
    "name": "ipython",
    "version": 3
   },
   "file_extension": ".py",
   "mimetype": "text/x-python",
   "name": "python",
   "nbconvert_exporter": "python",
   "pygments_lexer": "ipython3",
   "version": "3.8.5"
  }
 },
 "nbformat": 4,
 "nbformat_minor": 4
}
