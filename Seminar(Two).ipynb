{
 "cells": [
  {
   "cell_type": "markdown",
   "metadata": {},
   "source": [
    "# Решение систем линейных уравнений"
   ]
  },
  {
   "cell_type": "markdown",
   "metadata": {},
   "source": [
    "## Метод Гаусса\n",
    "\n",
    "Классический алгоритм исключения неизвестных (Метод Гаусса) связан с представлением исходной матрицы $ A $ в виде произведения двух треугольных.\n",
    "\n",
    "Если выполнены условия \n",
    "\n",
    "$$ a_{11} \\neq 0;\\ \\det \\begin{pmatrix}\n",
    "a_{11} & a_{12} \\\\\n",
    "a_{21} & a_{22}\n",
    "\\end{pmatrix} \\neq 0;\\ \\det{|A|} \\neq 0 $$\n",
    "\n",
    "тогда матрица $ A $ представима в виде $ A = LU $, где $ L $ - нижняя треугольная, $ U $ - верхняя треугольная.\n",
    "\n",
    "Приведем рекуррентные формулы для определения треугольных матриц $ L $ и $ U $:\n",
    "\n",
    "$$ u_{11} = a_{11}, $$\n",
    "\n",
    "$$ u_{1j} = a_{1j},\\ l_{j1} = \\frac{ a_{j1} }{ u_{11} },\\ j=2,3,...,n $$\n",
    "\n",
    "$$ u_{ii} = a_{ii} - \\sum^{i-1}_{k=1}{ l_{ik} u_{ki} } $$\n",
    "\n",
    "$$ u_{ij} = a_{ij} - \\sum^{i-1}_{k=1}{ l_{ik} u_{kj} },\\ l_{ji} = \\frac{1}{u_{ii}} \\left( a_{ji} - \\sum^{j-1}_{k=1}{ l_{jk} u_{ki} } \\right),\\ i=2,3,...,n,\\ j=i+1,i+2,...,n $$\n",
    "\n",
    "После разложения решение сводится к последовательному решениюдвух систем уравненийс треугольными матрицами:\n",
    "\n",
    "$$ Ly = f;\\ Ux = y $$\n",
    "\n",
    "$$ y_k = f_k - \\sum^{k-1}_{j=1}{l_{kj}y_j},\\ x_k = \\frac{1}{u_{kk}} \\left( y_k - \\sum^{n}_{j=k+1}{u_{kj}x_j} \\right) $$"
   ]
  },
  {
   "cell_type": "markdown",
   "metadata": {},
   "source": [
    "## Метод квадратного корня\n",
    "\n",
    "Если матрица $ A $ - симметричная, вещественная, невырожденная, то используют разложение:\n",
    "\n",
    "$$ A = S^{T} D S $$\n",
    "\n",
    "где $ S $ - верхняя треугольная матрица с положительными элементами на главной диагонали, а $ D $ - диагональная матрица с элементами $ d_i,\\ i=1,2,...,n $, которые равны $ \\pm 1 $. Вычисления на основе этого разложения определяют метод квадратного корня - метод Холецкого.\n",
    "\n",
    "Для элементов матриц $ S,\\ D $ используются расчетные формулы:\n",
    "\n",
    "$$ d_1 = sign\\ a_{11},\\ s_{11} = | a_{11} |^{1/2},\\ s_{1j} = \\frac{ a_{1j} }{ s_{11} },\\ j=2,3,...n $$\n",
    "\n",
    "$$  $$"
   ]
  },
  {
   "cell_type": "markdown",
   "metadata": {},
   "source": [
    "### Пример с семинара\n",
    "\n",
    "$$ A = \\begin{pmatrix}\n",
    "0,78 & 0,563 \\\\\n",
    "0,457 & 0,33\n",
    "\\end{pmatrix},\\ f = \\begin{pmatrix}\n",
    "0,217 \\\\\n",
    "0,127 \n",
    "\\end{pmatrix} $$\n",
    "\n",
    "Решение данной системы $ x_1 = 1,\\ x_2 = -1 $\n",
    "\n",
    "Получем решение данной системы с помощью метода Гаусса. Проверим условия:\n",
    "\n",
    "$$ a_{11} = 0,78 \\neq 0 $$\n",
    "\n",
    "$$ \\det \\begin{pmatrix}\n",
    "0,78 & 0,563 \\\\\n",
    "0,457 & 0,33\n",
    "\\end{pmatrix} = 0,78 * 0,33 - 0,563 * 0,457 = 1,09 \\times 10^{-4} \\neq 0 $$\n",
    "\n",
    "$$ \\det{|A|} = |1,09 \\times 10^{-4}| \\neq 0 $$"
   ]
  },
  {
   "cell_type": "code",
   "execution_count": 124,
   "metadata": {},
   "outputs": [],
   "source": [
    "import numpy as np\n",
    "import matplotlib.pyplot as plt\n",
    "from numba import jit"
   ]
  },
  {
   "cell_type": "code",
   "execution_count": 125,
   "metadata": {},
   "outputs": [],
   "source": [
    "A = np.asarray( [ [ 0.78, 0.563 ], [ 0.457, 0.33 ] ] )\n",
    "\n",
    "f = np.asarray( [ 0.217, 0.127 ] )"
   ]
  },
  {
   "cell_type": "code",
   "execution_count": 126,
   "metadata": {},
   "outputs": [],
   "source": [
    "@jit\n",
    "def decLU( A ):\n",
    "    \n",
    "    size = A.shape[ 0 ]\n",
    "    \n",
    "    U = np.zeros( ( size, size ) )\n",
    "    \n",
    "    L = np.zeros( ( size, size ) )\n",
    "    \n",
    "    for i in np.arange( 0, size, 1 ):\n",
    "        \n",
    "        for j in np.arange( 0, size, 1 ):\n",
    "                \n",
    "            if i == 0:\n",
    "                \n",
    "                U[ i ][ j ] = A[ i ][ j ]\n",
    "                \n",
    "                L[ j ][ i ] = A[ j ][ i ] / U[ 0 ][ 0 ]\n",
    "                \n",
    "                \n",
    "            else:\n",
    "                \n",
    "                S = 0.0\n",
    "                \n",
    "                for k in np.arange( 0, i - 1, 1 ):\n",
    "                    \n",
    "                    S += L[ i ][ k ] * U[ k ][ i ]\n",
    "                \n",
    "                U[ i ][ i ] = A[ i ][ i ] - S\n",
    "                \n",
    "                S = 0.0\n",
    "                \n",
    "                for k in np.arange( 0, i, 1 ):\n",
    "                    \n",
    "                    S += L[ i ][ k ] * U[ k ][ j ]                    \n",
    "                                \n",
    "                U[ i ][ j ] = A[ i ][ j ] - S\n",
    "                \n",
    "                S = 0.0\n",
    "                    \n",
    "                for k in np.arange( 0, i, 1 ):\n",
    "                    \n",
    "                    S += L[ j ][ k ] * U[ k ][ i ]\n",
    "                \n",
    "                L[ j ][ i ] = ( A[ j ][ i ] - S ) / U[ i ][ i ]\n",
    "                \n",
    "    return U, L"
   ]
  },
  {
   "cell_type": "code",
   "execution_count": 127,
   "metadata": {},
   "outputs": [],
   "source": [
    "@jit\n",
    "def Solve( A, f ):\n",
    "    \n",
    "    global decLU\n",
    "    \n",
    "    size = A.shape[ 0 ]\n",
    "    \n",
    "    y = np.zeros( size )\n",
    "    \n",
    "    x = np.zeros( size )\n",
    "    \n",
    "    U, L = decLU( A )\n",
    "    \n",
    "    for k in np.arange( 0, size, 1 ):\n",
    "        \n",
    "        #S = 0.0\n",
    "        \n",
    "        #for j in np.arange( 0, k-1, 1 ):\n",
    "            \n",
    "            #S += L[ k ][ j ] * u[ j ]\n",
    "        \n",
    "        y[ k ] = f[ k ] - np.dot( L[ k ][ 0:k ], y[ 0:k ] )\n",
    "        \n",
    "    for k in np.arange( size - 1, -1, -1 ):\n",
    "        \n",
    "        x[ k ] = ( y[ k ] - np.dot( U[ k ][ k+1:size ], x[ k+1:size ] ) ) / U[ k ][ k ]        \n",
    "        \n",
    "    return x"
   ]
  },
  {
   "cell_type": "code",
   "execution_count": 128,
   "metadata": {},
   "outputs": [],
   "source": [
    "x = Solve( A, f )"
   ]
  },
  {
   "cell_type": "code",
   "execution_count": 129,
   "metadata": {},
   "outputs": [
    {
     "data": {
      "text/plain": [
       "array([ 1., -1.])"
      ]
     },
     "execution_count": 129,
     "metadata": {},
     "output_type": "execute_result"
    }
   ],
   "source": [
    "x"
   ]
  },
  {
   "cell_type": "markdown",
   "metadata": {},
   "source": [
    "Результат получается слегка неловким, так как данный пример нужен, что бы показать как влияет плохая обусловленность системы на решение. Но в нашем случае получислся достаточно точный ответ. \n",
    "\n",
    "Для примера расчитаем число обусловлености для данной задачи. Напоминаю, что эта величина определяется выражением $ \\mu( A ) = ||A|| \\times ||A^{-1}|| $"
   ]
  },
  {
   "cell_type": "code",
   "execution_count": 130,
   "metadata": {},
   "outputs": [],
   "source": [
    "@jit\n",
    "def FirstNorm( A ):\n",
    "    \n",
    "    size = A.shape[ 0 ]\n",
    "    \n",
    "    SummStrok = np.zeros( size )\n",
    "    \n",
    "    for i in np.arange( 0, size, 1 ):\n",
    "        \n",
    "        for j in np.arange( 0, size, 1 ):\n",
    "        \n",
    "            SummStrok[ i ] += A[ i ][ j ]\n",
    "        \n",
    "    return max( SummStrok )\n",
    "\n",
    "@jit\n",
    "def NumberCond( A ):\n",
    "    \n",
    "    global FirstNorm\n",
    "    \n",
    "    return FirstNorm( A ) * FirstNorm( np.linalg.inv( A ) )"
   ]
  },
  {
   "cell_type": "code",
   "execution_count": 131,
   "metadata": {},
   "outputs": [
    {
     "data": {
      "text/plain": [
       "3979.7155963293603"
      ]
     },
     "execution_count": 131,
     "metadata": {},
     "output_type": "execute_result"
    }
   ],
   "source": [
    "NumberCond( A )"
   ]
  },
  {
   "cell_type": "markdown",
   "metadata": {},
   "source": [
    "Таким образом число обучловленности $ \\mu( A ) = 3979,715596 $"
   ]
  },
  {
   "cell_type": "code",
   "execution_count": null,
   "metadata": {},
   "outputs": [],
   "source": []
  }
 ],
 "metadata": {
  "kernelspec": {
   "display_name": "Python 3",
   "language": "python",
   "name": "python3"
  },
  "language_info": {
   "codemirror_mode": {
    "name": "ipython",
    "version": 3
   },
   "file_extension": ".py",
   "mimetype": "text/x-python",
   "name": "python",
   "nbconvert_exporter": "python",
   "pygments_lexer": "ipython3",
   "version": "3.8.5"
  }
 },
 "nbformat": 4,
 "nbformat_minor": 4
}
